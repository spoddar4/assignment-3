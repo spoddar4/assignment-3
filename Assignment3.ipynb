{
  "nbformat": 4,
  "nbformat_minor": 0,
  "metadata": {
    "colab": {
      "provenance": []
    },
    "kernelspec": {
      "name": "python3",
      "display_name": "Python 3"
    },
    "language_info": {
      "name": "python"
    }
  },
  "cells": [
    {
      "cell_type": "markdown",
      "source": [],
      "metadata": {
        "id": "w_u2BvDElhoe"
      }
    },
    {
      "cell_type": "markdown",
      "source": [
        "1. Explain the key features of Python that make it a popular choice for programming.\n",
        " 1.Easy to Read and Write – Clean syntax similar to English.\n",
        " 2.Interpreted Language – Code runs line-by-line, great for debugging.\n",
        " 3.Dynamically Typed – No need to declare variable types.\n",
        " 4.Large Standard Library – Comes with many built-in modules.\n",
        " 5.Cross-platform – Runs on Windows, Mac, Linux.\n",
        " 6.Versatile – Great for web dev, data science, AI, automation, etc.\n",
        " 7.Community Support – Lots of tutorials, libraries, and forums.\n",
        "\n",
        "2. Describe the role of predefined keywords in Python and provide examples of how they are used in a program.\n",
        " 1.keywords are predefined reserved words with specific meanings used to define stucture and rulws of programme.\n",
        " 2.Role of Keywords in Python:\n",
        " 3.Define the logic and structure of a Python program (e.g., conditions, loops, functions).\n",
        " 4.Cannot be used as variable names, because they have fixed meaning.\n",
        " 5.Help Python understand what action you want it to perform.\n",
        " 6.Make code more readable.\n",
        "    #now the example:"
      ],
      "metadata": {
        "id": "6kcluNlDneiW"
      }
    },
    {
      "cell_type": "markdown",
      "source": [],
      "metadata": {
        "id": "U8cbRpY7qcZk"
      }
    },
    {
      "cell_type": "code",
      "source": [
        "count = 5\n",
        "while count > 0:\n",
        "  print (count)\n",
        "  count = count-1"
      ],
      "metadata": {
        "colab": {
          "base_uri": "https://localhost:8080/"
        },
        "id": "b688iU3MplTv",
        "outputId": "bc4149fe-5413-4597-c38d-0309c97eb755"
      },
      "execution_count": 41,
      "outputs": [
        {
          "output_type": "stream",
          "name": "stdout",
          "text": [
            "5\n",
            "4\n",
            "3\n",
            "2\n",
            "1\n"
          ]
        }
      ]
    },
    {
      "cell_type": "markdown",
      "source": [],
      "metadata": {
        "id": "6-kxUNDhr0Te"
      }
    },
    {
      "cell_type": "markdown",
      "source": [
        "3. Compare and contrast mutable and immutable objects in Python with examples.\n",
        " #Mutable objects are those whose values can be changed after creation.\n",
        " #Immutable objects are those whose values cannot be changed once they are created.\n",
        "  #example for mutable data type (list)\n",
        "  "
      ],
      "metadata": {
        "id": "RCK_PLI4qTkf"
      }
    },
    {
      "cell_type": "markdown",
      "source": [],
      "metadata": {
        "id": "thFkQmn8qJPo"
      }
    },
    {
      "cell_type": "code",
      "source": [
        "resturant_menu = [\"Chicken Fried Rice\", \"Chilli Chicken\", \"Manchurian Chicken\"]\n",
        "resturant_menu"
      ],
      "metadata": {
        "colab": {
          "base_uri": "https://localhost:8080/"
        },
        "id": "KD8sCdcqotet",
        "outputId": "a52b20c0-a3de-4ce7-81d8-ed6ecb8c5743"
      },
      "execution_count": 42,
      "outputs": [
        {
          "output_type": "execute_result",
          "data": {
            "text/plain": [
              "['Chicken Fried Rice', 'Chilli Chicken', 'Manchurian Chicken']"
            ]
          },
          "metadata": {},
          "execution_count": 42
        }
      ]
    },
    {
      "cell_type": "markdown",
      "source": [],
      "metadata": {
        "id": "AtxQ4bxpr2xL"
      }
    },
    {
      "cell_type": "code",
      "source": [
        "  #example for immutable data type (string)\n"
      ],
      "metadata": {
        "id": "jZtHGUkNoTAe"
      },
      "execution_count": 43,
      "outputs": []
    },
    {
      "cell_type": "code",
      "source": [
        "name = \"sampita\"\n",
        "print(name)"
      ],
      "metadata": {
        "colab": {
          "base_uri": "https://localhost:8080/"
        },
        "id": "GBcFdYGTnV54",
        "outputId": "2205453e-66dd-41ed-a4d6-1fa3fe757602"
      },
      "execution_count": 44,
      "outputs": [
        {
          "output_type": "stream",
          "name": "stdout",
          "text": [
            "sampita\n"
          ]
        }
      ]
    },
    {
      "cell_type": "markdown",
      "source": [],
      "metadata": {
        "id": "DhYV_jUwnhSv"
      }
    },
    {
      "cell_type": "code",
      "source": [
        "name[0] = \"a\""
      ],
      "metadata": {
        "colab": {
          "base_uri": "https://localhost:8080/",
          "height": 146
        },
        "id": "cbsKymE5kSqg",
        "outputId": "e99d7c66-b85c-43df-a7e9-788932ca57d3"
      },
      "execution_count": 45,
      "outputs": [
        {
          "output_type": "error",
          "ename": "TypeError",
          "evalue": "'str' object does not support item assignment",
          "traceback": [
            "\u001b[0;31m---------------------------------------------------------------------------\u001b[0m",
            "\u001b[0;31mTypeError\u001b[0m                                 Traceback (most recent call last)",
            "\u001b[0;32m<ipython-input-45-20f645d5be2d>\u001b[0m in \u001b[0;36m<cell line: 0>\u001b[0;34m()\u001b[0m\n\u001b[0;32m----> 1\u001b[0;31m \u001b[0mname\u001b[0m\u001b[0;34m[\u001b[0m\u001b[0;36m0\u001b[0m\u001b[0;34m]\u001b[0m \u001b[0;34m=\u001b[0m \u001b[0;34m\"a\"\u001b[0m\u001b[0;34m\u001b[0m\u001b[0;34m\u001b[0m\u001b[0m\n\u001b[0m",
            "\u001b[0;31mTypeError\u001b[0m: 'str' object does not support item assignment"
          ]
        }
      ]
    },
    {
      "cell_type": "code",
      "source": [
        "name = \"sonty\"\n",
        "print(name)"
      ],
      "metadata": {
        "id": "WgaQ5tbQnm83"
      },
      "execution_count": null,
      "outputs": []
    },
    {
      "cell_type": "markdown",
      "source": [
        " 4. Discuss the different types of operators in Python and provide examples of how they are used.\n",
        " 1. Arithmetic Operators\n",
        " #Used to perform basic mathematical operations like addition, subtraction, multiplication, division, and more."
      ],
      "metadata": {
        "id": "KGueknOItkuY"
      }
    },
    {
      "cell_type": "code",
      "source": [
        " a = 20\n",
        " b = 5"
      ],
      "metadata": {
        "id": "McVCaq9UuvEX"
      },
      "execution_count": null,
      "outputs": []
    },
    {
      "cell_type": "code",
      "source": [
        " print(a + b)"
      ],
      "metadata": {
        "colab": {
          "base_uri": "https://localhost:8080/"
        },
        "id": "MreOddJyvJJ6",
        "outputId": "317ad8b0-fc0d-4edb-f38f-552e0b35fc4f"
      },
      "execution_count": 46,
      "outputs": [
        {
          "output_type": "stream",
          "name": "stdout",
          "text": [
            "25\n"
          ]
        }
      ]
    },
    {
      "cell_type": "code",
      "source": [
        "print(a - b)"
      ],
      "metadata": {
        "colab": {
          "base_uri": "https://localhost:8080/"
        },
        "id": "ActBbvcMvL9S",
        "outputId": "4b824d99-6806-49f2-d8c3-e9c62966183a"
      },
      "execution_count": 47,
      "outputs": [
        {
          "output_type": "stream",
          "name": "stdout",
          "text": [
            "15\n"
          ]
        }
      ]
    },
    {
      "cell_type": "code",
      "source": [
        " print(a * b)"
      ],
      "metadata": {
        "colab": {
          "base_uri": "https://localhost:8080/"
        },
        "id": "opcmsPy0vR9n",
        "outputId": "1c002206-abd3-4ded-aad0-46c101f79357"
      },
      "execution_count": 48,
      "outputs": [
        {
          "output_type": "stream",
          "name": "stdout",
          "text": [
            "100\n"
          ]
        }
      ]
    },
    {
      "cell_type": "code",
      "source": [
        " print(a / b)"
      ],
      "metadata": {
        "colab": {
          "base_uri": "https://localhost:8080/"
        },
        "id": "M6yFQO1lvVom",
        "outputId": "b526a303-7cb8-4512-cf2a-1dc498781281"
      },
      "execution_count": 49,
      "outputs": [
        {
          "output_type": "stream",
          "name": "stdout",
          "text": [
            "4.0\n"
          ]
        }
      ]
    },
    {
      "cell_type": "code",
      "source": [
        " print(a // b)"
      ],
      "metadata": {
        "colab": {
          "base_uri": "https://localhost:8080/"
        },
        "id": "bLo1xRO1vZl-",
        "outputId": "c16095b8-2775-4259-c1df-c5f71bbbe4ab"
      },
      "execution_count": 50,
      "outputs": [
        {
          "output_type": "stream",
          "name": "stdout",
          "text": [
            "4\n"
          ]
        }
      ]
    },
    {
      "cell_type": "code",
      "source": [
        " print(a % b)"
      ],
      "metadata": {
        "colab": {
          "base_uri": "https://localhost:8080/"
        },
        "id": "OA-KpE7bvdGo",
        "outputId": "c0ed3c71-e2eb-4bf6-be26-f0f42413da3d"
      },
      "execution_count": 51,
      "outputs": [
        {
          "output_type": "stream",
          "name": "stdout",
          "text": [
            "0\n"
          ]
        }
      ]
    },
    {
      "cell_type": "code",
      "source": [
        " print(a ** b)"
      ],
      "metadata": {
        "colab": {
          "base_uri": "https://localhost:8080/"
        },
        "id": "6kaTz-v4vfqh",
        "outputId": "c33256d2-6089-45b1-8a65-abbe4190bc74"
      },
      "execution_count": 52,
      "outputs": [
        {
          "output_type": "stream",
          "name": "stdout",
          "text": [
            "3200000\n"
          ]
        }
      ]
    },
    {
      "cell_type": "markdown",
      "source": [
        " #2. Comparison (Relational) Operators\n",
        " #Used to compare two values to check for equality, greater than, less than, etc."
      ],
      "metadata": {
        "id": "tKmeH05ovqJ7"
      }
    },
    {
      "cell_type": "code",
      "source": [
        "x = 5\n",
        "y = 10\n",
        "\n",
        "print(x==y)"
      ],
      "metadata": {
        "colab": {
          "base_uri": "https://localhost:8080/"
        },
        "id": "CNbQL0-DxnNr",
        "outputId": "c3226c87-1638-4cf5-d1c0-aee12dcab06d"
      },
      "execution_count": 55,
      "outputs": [
        {
          "output_type": "stream",
          "name": "stdout",
          "text": [
            "False\n"
          ]
        }
      ]
    },
    {
      "cell_type": "code",
      "source": [
        "print(x!=y)"
      ],
      "metadata": {
        "colab": {
          "base_uri": "https://localhost:8080/"
        },
        "id": "GuAahh5zvhaN",
        "outputId": "5d349e5e-93d3-47ef-c58f-049eba0f5b2f"
      },
      "execution_count": 56,
      "outputs": [
        {
          "output_type": "stream",
          "name": "stdout",
          "text": [
            "True\n"
          ]
        }
      ]
    },
    {
      "cell_type": "code",
      "source": [
        " print(x>y)"
      ],
      "metadata": {
        "colab": {
          "base_uri": "https://localhost:8080/"
        },
        "id": "-iTJi7qpx2Hn",
        "outputId": "58dbbc9c-459b-465b-d858-d4bffbaed182"
      },
      "execution_count": 58,
      "outputs": [
        {
          "output_type": "stream",
          "name": "stdout",
          "text": [
            "False\n"
          ]
        }
      ]
    },
    {
      "cell_type": "code",
      "source": [
        " print(x<y)"
      ],
      "metadata": {
        "colab": {
          "base_uri": "https://localhost:8080/"
        },
        "id": "M-nApQ0Dx8nn",
        "outputId": "132fa0b0-b291-4054-b0da-9f2ee6bda837"
      },
      "execution_count": 59,
      "outputs": [
        {
          "output_type": "stream",
          "name": "stdout",
          "text": [
            "True\n"
          ]
        }
      ]
    },
    {
      "cell_type": "code",
      "source": [
        " print(x>=5)"
      ],
      "metadata": {
        "colab": {
          "base_uri": "https://localhost:8080/"
        },
        "id": "OgvfsFE9yBXw",
        "outputId": "febf3942-1f27-4204-9545-bf53b17d38b1"
      },
      "execution_count": 60,
      "outputs": [
        {
          "output_type": "stream",
          "name": "stdout",
          "text": [
            "True\n"
          ]
        }
      ]
    },
    {
      "cell_type": "code",
      "source": [
        "print(y<=10)"
      ],
      "metadata": {
        "colab": {
          "base_uri": "https://localhost:8080/"
        },
        "id": "Ghycw4iiyG4v",
        "outputId": "b7679e17-2216-4a2e-f59f-8164ede916bc"
      },
      "execution_count": 61,
      "outputs": [
        {
          "output_type": "stream",
          "name": "stdout",
          "text": [
            "True\n"
          ]
        }
      ]
    },
    {
      "cell_type": "markdown",
      "source": [
        "3. Logical Operators\n",
        "#Used to combine multiple conditions (and/or/not)."
      ],
      "metadata": {
        "id": "_PdtaxLzyJzb"
      }
    },
    {
      "cell_type": "code",
      "source": [
        "x = 5\n",
        "print(x > 2 and x < 10)"
      ],
      "metadata": {
        "colab": {
          "base_uri": "https://localhost:8080/"
        },
        "id": "enEpMJW7ywQ7",
        "outputId": "273cafed-606c-4ae2-bd50-1bbc5e14d4e9"
      },
      "execution_count": 62,
      "outputs": [
        {
          "output_type": "stream",
          "name": "stdout",
          "text": [
            "True\n"
          ]
        }
      ]
    },
    {
      "cell_type": "code",
      "source": [
        " print(x < 2 or x > 3)"
      ],
      "metadata": {
        "colab": {
          "base_uri": "https://localhost:8080/"
        },
        "id": "GsOgd5MNyOj3",
        "outputId": "e875f04c-979a-46c6-8df1-595318d91cb4"
      },
      "execution_count": 63,
      "outputs": [
        {
          "output_type": "stream",
          "name": "stdout",
          "text": [
            "True\n"
          ]
        }
      ]
    },
    {
      "cell_type": "code",
      "source": [
        "print(not (x > 3))"
      ],
      "metadata": {
        "colab": {
          "base_uri": "https://localhost:8080/"
        },
        "id": "P0oDxFtozAiZ",
        "outputId": "7a4424ea-022f-4e32-b830-28aeabc26863"
      },
      "execution_count": 64,
      "outputs": [
        {
          "output_type": "stream",
          "name": "stdout",
          "text": [
            "False\n"
          ]
        }
      ]
    },
    {
      "cell_type": "markdown",
      "source": [
        "#4. Assignment Operators\n",
        " #Used to assign values to variables and modify their values in place."
      ],
      "metadata": {
        "id": "2QvsxlZ_z5SR"
      }
    },
    {
      "cell_type": "code",
      "source": [
        " a = 10\n",
        " a+=5 #a=a+5\n",
        " print(a)"
      ],
      "metadata": {
        "colab": {
          "base_uri": "https://localhost:8080/"
        },
        "id": "p-qrOGDC1Nj-",
        "outputId": "b9c6f748-2bd8-4cbe-8977-eda952afa900"
      },
      "execution_count": 70,
      "outputs": [
        {
          "output_type": "stream",
          "name": "stdout",
          "text": [
            "15\n"
          ]
        }
      ]
    },
    {
      "cell_type": "code",
      "source": [
        " a-=2   #a=a-2\n",
        " print(a)"
      ],
      "metadata": {
        "colab": {
          "base_uri": "https://localhost:8080/"
        },
        "id": "wotl4QKz1nZV",
        "outputId": "434f5b16-1eb3-4b85-fbce-1a53b69930e3"
      },
      "execution_count": 71,
      "outputs": [
        {
          "output_type": "stream",
          "name": "stdout",
          "text": [
            "13\n"
          ]
        }
      ]
    },
    {
      "cell_type": "code",
      "source": [
        " a*=2\n",
        " print(a)"
      ],
      "metadata": {
        "colab": {
          "base_uri": "https://localhost:8080/"
        },
        "id": "Orxy2WD61vjj",
        "outputId": "5ac47400-7304-4ca8-a8d8-741653ee067f"
      },
      "execution_count": 72,
      "outputs": [
        {
          "output_type": "stream",
          "name": "stdout",
          "text": [
            "26\n"
          ]
        }
      ]
    },
    {
      "cell_type": "code",
      "source": [
        "a /=2\n",
        "print(a)"
      ],
      "metadata": {
        "colab": {
          "base_uri": "https://localhost:8080/"
        },
        "id": "JCMCDgcn12Z1",
        "outputId": "69f433fc-f083-4066-bbb4-5595496852f1"
      },
      "execution_count": 75,
      "outputs": [
        {
          "output_type": "stream",
          "name": "stdout",
          "text": [
            "13.0\n"
          ]
        }
      ]
    },
    {
      "cell_type": "markdown",
      "source": [
        "#5. Bitwise Operators"
      ],
      "metadata": {
        "id": "6gZCpS-c2Rjw"
      }
    },
    {
      "cell_type": "markdown",
      "source": [
        " #Operate at the bit level, performing operations like AND, OR, XOR, NOT, and shifting."
      ],
      "metadata": {
        "id": "Rr3wNqYh2bUw"
      }
    },
    {
      "cell_type": "code",
      "source": [
        " a = 5 #0101\n",
        " b = 3 #0011\n",
        "print(a & b)"
      ],
      "metadata": {
        "colab": {
          "base_uri": "https://localhost:8080/"
        },
        "id": "cUQgECSF2e4I",
        "outputId": "e54140de-27a0-4d8c-e4d6-d09a65398f84"
      },
      "execution_count": 77,
      "outputs": [
        {
          "output_type": "stream",
          "name": "stdout",
          "text": [
            "1\n"
          ]
        }
      ]
    },
    {
      "cell_type": "code",
      "source": [
        " print(a | b)"
      ],
      "metadata": {
        "colab": {
          "base_uri": "https://localhost:8080/"
        },
        "id": "JIHFX7LE27lR",
        "outputId": "182b27a1-637a-4612-cc78-e7a334943a8f"
      },
      "execution_count": 78,
      "outputs": [
        {
          "output_type": "stream",
          "name": "stdout",
          "text": [
            "7\n"
          ]
        }
      ]
    },
    {
      "cell_type": "code",
      "source": [
        " print(a ^ b)"
      ],
      "metadata": {
        "colab": {
          "base_uri": "https://localhost:8080/"
        },
        "id": "jpXR552b3AwV",
        "outputId": "95a4f240-0724-4b26-b405-6d0944bcae80"
      },
      "execution_count": 79,
      "outputs": [
        {
          "output_type": "stream",
          "name": "stdout",
          "text": [
            "6\n"
          ]
        }
      ]
    },
    {
      "cell_type": "code",
      "source": [
        " print(~a)"
      ],
      "metadata": {
        "colab": {
          "base_uri": "https://localhost:8080/"
        },
        "id": "mo-AwZWL3Dut",
        "outputId": "14f787f1-a87e-4d1c-ab03-e8a330e93bc0"
      },
      "execution_count": 80,
      "outputs": [
        {
          "output_type": "stream",
          "name": "stdout",
          "text": [
            "-6\n"
          ]
        }
      ]
    },
    {
      "cell_type": "code",
      "source": [
        " print(a << 1)"
      ],
      "metadata": {
        "colab": {
          "base_uri": "https://localhost:8080/"
        },
        "id": "yQ0CqMQ33Gfj",
        "outputId": "c25bfec7-b2c7-4651-bdd6-195da9ca3b03"
      },
      "execution_count": 81,
      "outputs": [
        {
          "output_type": "stream",
          "name": "stdout",
          "text": [
            "10\n"
          ]
        }
      ]
    },
    {
      "cell_type": "code",
      "source": [
        " print(a >> 1)"
      ],
      "metadata": {
        "colab": {
          "base_uri": "https://localhost:8080/"
        },
        "id": "WKq24z9p3ISG",
        "outputId": "092081fc-762b-4100-d9da-7ca76cd9f51a"
      },
      "execution_count": 82,
      "outputs": [
        {
          "output_type": "stream",
          "name": "stdout",
          "text": [
            "2\n"
          ]
        }
      ]
    },
    {
      "cell_type": "markdown",
      "source": [
        " #6. Membership Operators\n",
        " #Check if a value exists in a sequence (e.g., list, string, tuple)."
      ],
      "metadata": {
        "id": "qgqZf1Hk3OJh"
      }
    },
    {
      "cell_type": "code",
      "source": [
        " fruits = ['apple', 'banana', 'mango']\n",
        "print('apple' in fruits)"
      ],
      "metadata": {
        "colab": {
          "base_uri": "https://localhost:8080/"
        },
        "id": "sx8vktWl3O26",
        "outputId": "bc51e095-0b9e-4a71-dc83-3519fbd7feaa"
      },
      "execution_count": 83,
      "outputs": [
        {
          "output_type": "stream",
          "name": "stdout",
          "text": [
            "True\n"
          ]
        }
      ]
    },
    {
      "cell_type": "code",
      "source": [
        " print('grape' not in fruits)"
      ],
      "metadata": {
        "colab": {
          "base_uri": "https://localhost:8080/"
        },
        "id": "LEbgm3co3ack",
        "outputId": "ebfde608-59c1-4528-edb7-49865583d333"
      },
      "execution_count": 84,
      "outputs": [
        {
          "output_type": "stream",
          "name": "stdout",
          "text": [
            "True\n"
          ]
        }
      ]
    },
    {
      "cell_type": "markdown",
      "source": [
        "#7. Identity Operators"
      ],
      "metadata": {
        "id": "9sxM-UgU3gTA"
      }
    },
    {
      "cell_type": "markdown",
      "source": [
        "#Checks if two variables refer to the same object in memory."
      ],
      "metadata": {
        "id": "j8dn-mUA3h2k"
      }
    },
    {
      "cell_type": "code",
      "source": [
        " x = [1, 2, 3]\n",
        " y = x\n",
        " z = [1, 2, 3]\n",
        " print(x is y)"
      ],
      "metadata": {
        "colab": {
          "base_uri": "https://localhost:8080/"
        },
        "id": "Rywi9RkH3d0V",
        "outputId": "df31baff-88d8-44c9-ddc8-e956a2bf040c"
      },
      "execution_count": 85,
      "outputs": [
        {
          "output_type": "stream",
          "name": "stdout",
          "text": [
            "True\n"
          ]
        }
      ]
    },
    {
      "cell_type": "code",
      "source": [
        " print(x is z)"
      ],
      "metadata": {
        "colab": {
          "base_uri": "https://localhost:8080/"
        },
        "id": "kKCA1LHA3xdX",
        "outputId": "4638426d-5c91-4fa2-a478-a3d8b96169a0"
      },
      "execution_count": 86,
      "outputs": [
        {
          "output_type": "stream",
          "name": "stdout",
          "text": [
            "False\n"
          ]
        }
      ]
    },
    {
      "cell_type": "code",
      "source": [
        " print(x is not z)"
      ],
      "metadata": {
        "colab": {
          "base_uri": "https://localhost:8080/"
        },
        "id": "5L9JTOdK30j4",
        "outputId": "9468b27f-3464-4ad5-81fa-cc6b6b2dca07"
      },
      "execution_count": 87,
      "outputs": [
        {
          "output_type": "stream",
          "name": "stdout",
          "text": [
            "True\n"
          ]
        }
      ]
    },
    {
      "cell_type": "markdown",
      "source": [
        "5.Explain the concept of type casting in Python with examples."
      ],
      "metadata": {
        "id": "LmE0zJt-33Xa"
      }
    },
    {
      "cell_type": "markdown",
      "source": [
        "#Type casting is the process of converting a variable from one data type to another.\n",
        "#They are of 2 types: A) Implicit; B) Xplicit\n",
        " #example:"
      ],
      "metadata": {
        "id": "nsqemQHq4Gcm"
      }
    },
    {
      "cell_type": "code",
      "source": [
        " s = \"100\"\n",
        "n=int(s)  #Converting string to integer\n",
        "print(n)"
      ],
      "metadata": {
        "colab": {
          "base_uri": "https://localhost:8080/"
        },
        "id": "GsexNsg-5xn8",
        "outputId": "32373ed4-90bd-49f3-aa0d-6d8ef300f4ad"
      },
      "execution_count": 90,
      "outputs": [
        {
          "output_type": "stream",
          "name": "stdout",
          "text": [
            "100\n"
          ]
        }
      ]
    },
    {
      "cell_type": "code",
      "source": [
        "num = 10\n",
        "f = float(num)  #Converting int to float\n",
        "print(f)"
      ],
      "metadata": {
        "colab": {
          "base_uri": "https://localhost:8080/"
        },
        "id": "oAyvV2Hd6FN_",
        "outputId": "3d681149-d4fc-4f1e-9918-c4f96be9f1ac"
      },
      "execution_count": 91,
      "outputs": [
        {
          "output_type": "stream",
          "name": "stdout",
          "text": [
            "10.0\n"
          ]
        }
      ]
    },
    {
      "cell_type": "markdown",
      "source": [
        "6.How do conditional statements work in Python? Illustrate with examples."
      ],
      "metadata": {
        "id": "APc27Ft86T-k"
      }
    },
    {
      "cell_type": "markdown",
      "source": [],
      "metadata": {
        "id": "tB8RJjre76PL"
      }
    },
    {
      "cell_type": "code",
      "source": [
        " #Conditional statements are used to execute a block of code based on whether a condition is True or False. (if, if-else,if-elif-else)\n",
        " #if condition:\n",
        "  #code to execute if condition is True"
      ],
      "metadata": {
        "id": "ohkwTMQo6XLi"
      },
      "execution_count": null,
      "outputs": []
    },
    {
      "cell_type": "code",
      "source": [
        "x=int(input('enter'))\n",
        "\n",
        "if x>5:\n",
        "  print(\"x is greater than 5\") #if True print this.\n",
        "else:\n",
        "  print(\"x is not greater than 5\") #if False print this."
      ],
      "metadata": {
        "colab": {
          "base_uri": "https://localhost:8080/"
        },
        "id": "bmxyGRAs6jPU",
        "outputId": "985401fd-4f0d-4943-9677-a64ea3a3a46b"
      },
      "execution_count": 92,
      "outputs": [
        {
          "output_type": "stream",
          "name": "stdout",
          "text": [
            "enter10\n",
            "x is greater than 5\n"
          ]
        }
      ]
    },
    {
      "cell_type": "markdown",
      "source": [
        "7.Describe the different types of loops in Python and their use cases with examples."
      ],
      "metadata": {
        "id": "w8tyCKex9dfZ"
      }
    },
    {
      "cell_type": "markdown",
      "source": [
        " #A loop is a function that repeats a block of code multiple times aslong as a certain condition satisfies.\n",
        "  #They are of 6 types:\n",
        "   #for loop example"
      ],
      "metadata": {
        "id": "wRqF-JdJ9qUD"
      }
    },
    {
      "cell_type": "code",
      "source": [
        "fruits = [\"apple\", \"banana\", \"cherry\"]\n",
        "for fruit in fruits:\n",
        "  print(fruit)\n"
      ],
      "metadata": {
        "colab": {
          "base_uri": "https://localhost:8080/"
        },
        "id": "_sX4HIju7YMK",
        "outputId": "45d36990-50e1-456c-d860-18236e517376"
      },
      "execution_count": 97,
      "outputs": [
        {
          "output_type": "stream",
          "name": "stdout",
          "text": [
            "apple\n",
            "banana\n",
            "cherry\n"
          ]
        }
      ]
    },
    {
      "cell_type": "markdown",
      "source": [
        "#while loop example"
      ],
      "metadata": {
        "id": "ku7aiUWa-SYR"
      }
    },
    {
      "cell_type": "markdown",
      "source": [
        "#Example of counting from 1 to 5"
      ],
      "metadata": {
        "id": "xmGdTYsC-XJ7"
      }
    },
    {
      "cell_type": "code",
      "source": [
        "count=1\n",
        "while count <= 5:\n",
        " print(count)\n",
        " count += 1"
      ],
      "metadata": {
        "colab": {
          "base_uri": "https://localhost:8080/"
        },
        "id": "1MzK-9wi9z4a",
        "outputId": "7bc0b770-b497-4379-c920-0e06ae95d716"
      },
      "execution_count": 109,
      "outputs": [
        {
          "output_type": "stream",
          "name": "stdout",
          "text": [
            "1\n",
            "2\n",
            "3\n",
            "4\n",
            "5\n"
          ]
        }
      ]
    },
    {
      "cell_type": "markdown",
      "source": [
        "#break statement example\n",
        " # Example to stop the loop when a number is found"
      ],
      "metadata": {
        "id": "7KOQgttw_Bp8"
      }
    },
    {
      "cell_type": "code",
      "source": [
        " for num in range(1, 10):\n",
        "    if num == 5:\n",
        "        break  # Exit the loop when num is 5\n",
        "    print(num)"
      ],
      "metadata": {
        "colab": {
          "base_uri": "https://localhost:8080/"
        },
        "id": "QPjt_yIB_Czd",
        "outputId": "d4337918-c21a-47c4-ecb7-faa9bee1c977"
      },
      "execution_count": 110,
      "outputs": [
        {
          "output_type": "stream",
          "name": "stdout",
          "text": [
            "1\n",
            "2\n",
            "3\n",
            "4\n"
          ]
        }
      ]
    },
    {
      "cell_type": "markdown",
      "source": [
        "#continue statement example"
      ],
      "metadata": {
        "id": "eB5uTgc0_JiJ"
      }
    },
    {
      "cell_type": "markdown",
      "source": [
        "#Example to skip printing even numbers"
      ],
      "metadata": {
        "id": "ZBwGm9Z__fQP"
      }
    },
    {
      "cell_type": "code",
      "source": [
        " for num in range(1, 6):\n",
        "   if num %2 == 0:\n",
        "    continue  #Skip even numbers\n",
        "print(num)"
      ],
      "metadata": {
        "colab": {
          "base_uri": "https://localhost:8080/"
        },
        "id": "8SuABPsy_MsV",
        "outputId": "15716475-bc43-45e6-8dd1-5dc779e212b5"
      },
      "execution_count": 124,
      "outputs": [
        {
          "output_type": "stream",
          "name": "stdout",
          "text": [
            "5\n"
          ]
        }
      ]
    },
    {
      "cell_type": "markdown",
      "source": [
        " #nested loop example\n",
        " #Example with a nested for loop to print a multiplication table"
      ],
      "metadata": {
        "id": "2Lyx6rIp_6na"
      }
    },
    {
      "cell_type": "code",
      "source": [
        " for i in range(1, 4):\n",
        "   for j in range(1, 4):\n",
        "     print(i * j, end=\" \")\n",
        "print()  #Move to the next line"
      ],
      "metadata": {
        "colab": {
          "base_uri": "https://localhost:8080/"
        },
        "id": "H47YKb0Y_710",
        "outputId": "ce5e8aa1-3053-404f-a5d0-6e679a7452ca"
      },
      "execution_count": 125,
      "outputs": [
        {
          "output_type": "stream",
          "name": "stdout",
          "text": [
            "1 2 3 2 4 6 3 6 9 \n"
          ]
        }
      ]
    },
    {
      "cell_type": "markdown",
      "source": [
        " #else clause example\n",
        " #Example with a nested for loop to print a multiplication table\n",
        " #Example to search for a number in a list"
      ],
      "metadata": {
        "id": "6wMPJUPyAJ26"
      }
    },
    {
      "cell_type": "code",
      "source": [
        "numbers = [1, 2, 3, 4, 5]\n",
        "for num in numbers:\n",
        " if num ==3:\n",
        "  print(\"Found 3!\")\n",
        "  break\n",
        "else:\n",
        " print(\"3 not found\")"
      ],
      "metadata": {
        "colab": {
          "base_uri": "https://localhost:8080/"
        },
        "id": "18fvfAB7AK2-",
        "outputId": "6636b4b7-b299-4405-c23a-ede75a2e6084"
      },
      "execution_count": 143,
      "outputs": [
        {
          "output_type": "stream",
          "name": "stdout",
          "text": [
            "Found 3!\n"
          ]
        }
      ]
    }
  ]
}